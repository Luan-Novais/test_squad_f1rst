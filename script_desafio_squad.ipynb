{
 "cells": [
  {
   "cell_type": "markdown",
   "metadata": {
    "application/vnd.databricks.v1+cell": {
     "cellMetadata": {},
     "inputWidgets": {},
     "nuid": "1330e43b-c4af-41f0-865e-ef04149f40d8",
     "showTitle": false,
     "tableResultSettingsMap": {},
     "title": ""
    }
   },
   "source": [
    "**BEM VINDOS AO NOSSO desafio de squad.**\n",
    "\n",
    "OBJETIVO: desenvolver habilidades relacionada ao nosso desenvolvimento de tarefas da mesa no dia a dia. \n",
    "SOBRE O DESAFIO:\n",
    " 1 - Iremos ler um arquivo dos dados do covid no ano de 2022, este com 999.055 linhas e iremos aplicar algumas regras que levantei com base no dicionario https://portalsinan.saude.gov.br/images/documentos/Agravos/Notificacao_Individual/DIC_DADOS_NET---Notificao-Individual_rev.pdf de dados do portal da saúde. \n",
    "\n",
    " 2 - Compartilhei com vocês o arquivo chamado **dados-sivep-esus-sao-paulo-sp-jul-dez-2022** nosso objeto será\n",
    " \n",
    " [ ETAPA 1]\n",
    "\n",
    " 2.1 Subir o arquivo no DBFS ( Databricks file system ) \n",
    " 2.2 Ler os dados do arquivo\n",
    " 2.3 Recuperar as colunas [ SEXO,DT_SIN_PRI,CS_RACA,FEBRE,TOSSE,HOSPITAL,DT_INTERNA,DT_EVOLUCA ]\n",
    "\n",
    " Em cada celula terá uma tarefa e a minha saída com base nos teste enquanto desenvolvia esse treinamento. "
   ]
  },
  {
   "cell_type": "code",
   "execution_count": 0,
   "metadata": {
    "application/vnd.databricks.v1+cell": {
     "cellMetadata": {},
     "inputWidgets": {},
     "nuid": "6878567c-b50f-40fc-bc78-e5b526a5c673",
     "showTitle": false,
     "tableResultSettingsMap": {},
     "title": ""
    }
   },
   "outputs": [],
   "source": [
    "#APÓS SUBIR O ARQUIVO DO DBFS IREMOS REALIZAR A SUA LEITURA\n",
    "#apos leitura relaizar um count que deverá retornar esse numero. \n",
    "\n",
    "#validando a quantidade de registro = 999.054\n"
   ]
  },
  {
   "cell_type": "code",
   "execution_count": 0,
   "metadata": {
    "application/vnd.databricks.v1+cell": {
     "cellMetadata": {},
     "inputWidgets": {},
     "nuid": "045fc442-2f53-41c1-a953-d242e8883ab1",
     "showTitle": false,
     "tableResultSettingsMap": {},
     "title": ""
    }
   },
   "outputs": [],
   "source": [
    "#Recuperando as colunas\n",
    "# [ SEXO,DT_SIN_PRI,CS_RACA,FEBRE,TOSSE,HOSPITAL,DT_INTERNA,DT_EVOLUCA ]\n",
    "\n",
    "#saída com meu printSchema\n",
    "# SEXO:string\n",
    "# DT_SIN_PRI:string\n",
    "# CS_RACA:string\n",
    "# FEBRE:string\n",
    "# TOSSE:string\n",
    "# HOSPITAL:string\n",
    "# DT_INTERNA:string\n",
    "# DT_EVOLUCA:string\n"
   ]
  },
  {
   "cell_type": "code",
   "execution_count": 0,
   "metadata": {
    "application/vnd.databricks.v1+cell": {
     "cellMetadata": {},
     "inputWidgets": {},
     "nuid": "16b99366-0f98-4b78-9fd6-ce1fb25b8886",
     "showTitle": false,
     "tableResultSettingsMap": {},
     "title": ""
    }
   },
   "outputs": [],
   "source": [
    "#renomear as colunas\n",
    "#de para \n",
    "# DT_SIN_PRI = DATA_INICO_SINT\n",
    "# DT_INTERNA = DATA_INTERNACAO\n",
    "# DT_EVOLUCA = DATA_EVOLUCAO"
   ]
  },
  {
   "cell_type": "code",
   "execution_count": 0,
   "metadata": {
    "application/vnd.databricks.v1+cell": {
     "cellMetadata": {},
     "inputWidgets": {},
     "nuid": "d7d1bc71-5368-4b4a-8dfc-f1c2064dd26e",
     "showTitle": false,
     "tableResultSettingsMap": {},
     "title": ""
    }
   },
   "outputs": [],
   "source": [
    "#Realizar regra da coluna teve_febre e realizar uma contagem com base no sexo e se teve febre \n",
    "#regra\n",
    "#se FEBRE = 1 entao sim\n",
    "#se FEBRE = 2 entao nao caso contrario Ignorado\n",
    "\n",
    "# esse é o count no final da construcao do campo\n",
    "# +----+----------+------+\n",
    "# |sexo|teve_febre| count|\n",
    "# +----+----------+------+\n",
    "# |   F|       nao|  2450|\n",
    "# |   F|  ignorado|438097|\n",
    "# |   F|       sim|179034|\n",
    "# |   M|  ignorado|248124|\n",
    "# |   M|       nao|  2164|\n",
    "# |   M|       sim|129185|\n",
    "# +----+----------+------+\n"
   ]
  },
  {
   "cell_type": "code",
   "execution_count": 0,
   "metadata": {
    "application/vnd.databricks.v1+cell": {
     "cellMetadata": {},
     "inputWidgets": {},
     "nuid": "69e1fc1a-bddc-47ab-adc5-78085f0be5eb",
     "showTitle": false,
     "tableResultSettingsMap": {},
     "title": ""
    }
   },
   "outputs": [],
   "source": [
    "#Realizar regra da coluna teve_tosse e realizar uma contagem com base no sexo e se teve tosse \n",
    "#regra \n",
    "#Se TOSSE = 1 então sim caso contratio nao \n",
    "\n",
    "#Esse é o count apos a construcao do campo\n",
    "# +----+----------+------+\n",
    "# |sexo|teve_tosse| count|\n",
    "# +----+----------+------+\n",
    "# |   F|       nao|224614|\n",
    "# |   F|       sim|394967|\n",
    "# |   M|       nao|140384|\n",
    "# |   M|       sim|239089|\n",
    "# +----+----------+------+"
   ]
  },
  {
   "cell_type": "code",
   "execution_count": 0,
   "metadata": {
    "application/vnd.databricks.v1+cell": {
     "cellMetadata": {},
     "inputWidgets": {},
     "nuid": "e38f9e57-8cea-4422-8fae-868c2dc34021",
     "showTitle": false,
     "tableResultSettingsMap": {},
     "title": ""
    }
   },
   "outputs": [],
   "source": [
    "#Realizar regra da coluna paciente_internado e realizar uma contagem com base no sexo e se paciente_internado \n",
    "#regra\n",
    "#Se HOSPITAL  = 1 sim diff disso nao\n",
    "\n",
    "#count apos a construcao do campo\n",
    "# +----+------------------+------+\n",
    "# |sexo|paciente_internado| count|\n",
    "# +----+------------------+------+\n",
    "# |   F|               nao|611428|\n",
    "# |   F|               sim|  8153|\n",
    "# |   M|               nao|371475|\n",
    "# |   M|               sim|  7998|\n",
    "# +----+------------------+------+"
   ]
  },
  {
   "cell_type": "code",
   "execution_count": 0,
   "metadata": {
    "application/vnd.databricks.v1+cell": {
     "cellMetadata": {},
     "inputWidgets": {},
     "nuid": "1327e3f9-f2f1-46c7-b4ca-ae535b799cb0",
     "showTitle": false,
     "tableResultSettingsMap": {},
     "title": ""
    }
   },
   "outputs": [],
   "source": [
    "#Mostrar somente pacientes que foram internados com SEXO ,DATA_INTERNACAO e DATA_EVOLUCAO recuperar outro df com os campos.\n",
    "\n",
    "#Qt_pacientes_internados = 16.151"
   ]
  },
  {
   "cell_type": "code",
   "execution_count": 0,
   "metadata": {
    "application/vnd.databricks.v1+cell": {
     "cellMetadata": {},
     "inputWidgets": {},
     "nuid": "98cae06a-26b4-4be7-8541-d818879d6ded",
     "showTitle": false,
     "tableResultSettingsMap": {},
     "title": ""
    }
   },
   "outputs": [],
   "source": [
    "#Com seu df novo você ira Calcular os dias em que a doença teve evolução por sexo\n",
    "\n",
    "#amostra do campo dias_evolucao \n",
    "# +----+---------------+-------------+-------------+\n",
    "# |SEXO|DATA_INTERNACAO|DATA_EVOLUCAO|dias_evolucao|\n",
    "# +----+---------------+-------------+-------------+\n",
    "# |   M|     2022-06-30|   2022-07-03|            3|\n",
    "# |   M|     2022-06-29|   2022-06-30|            1|\n",
    "# |   M|     2022-06-15|   2022-06-23|            8|\n",
    "# |   M|     2022-06-14|   2022-06-22|            8|\n",
    "# |   F|     2022-06-27|   2022-07-15|           18|\n",
    "# +----+---------------+-------------+-------------+"
   ]
  },
  {
   "cell_type": "code",
   "execution_count": 0,
   "metadata": {
    "application/vnd.databricks.v1+cell": {
     "cellMetadata": {},
     "inputWidgets": {},
     "nuid": "ed18cf75-adb6-47fb-a3f8-e542087db4c7",
     "showTitle": false,
     "tableResultSettingsMap": {},
     "title": ""
    }
   },
   "outputs": [],
   "source": [
    "#Mostrar dias_evolucao maior por sexo\n",
    "\n",
    "# +----+-------------------+\n",
    "# |SEXO|dias_evolucao_maior|\n",
    "# +----+-------------------+\n",
    "# |   F|                696|\n",
    "# |   M|                852|\n",
    "# +----+-------------------+"
   ]
  },
  {
   "cell_type": "code",
   "execution_count": 0,
   "metadata": {
    "application/vnd.databricks.v1+cell": {
     "cellMetadata": {},
     "inputWidgets": {},
     "nuid": "da818638-04ca-4310-bb3b-c7307a4afad7",
     "showTitle": false,
     "tableResultSettingsMap": {},
     "title": ""
    }
   },
   "outputs": [],
   "source": [
    "#Mostrar dias_evolucao menor por sexo > 0\n",
    "# +----+-------------------+\n",
    "# |SEXO|dias_evolucao_menor|\n",
    "# +----+-------------------+\n",
    "# |   F|                  1|\n",
    "# |   M|                  1|\n",
    "# +----+-------------------+"
   ]
  },
  {
   "cell_type": "code",
   "execution_count": 0,
   "metadata": {
    "application/vnd.databricks.v1+cell": {
     "cellMetadata": {},
     "inputWidgets": {},
     "nuid": "e6daa644-3ee7-4b37-89e3-d39f219db114",
     "showTitle": false,
     "tableResultSettingsMap": {},
     "title": ""
    }
   },
   "outputs": [],
   "source": [
    "#no seu df principal agora você ira criar regra de classificacao de raca e contar a qt de pessoas por raca e por sexo remover null\n",
    "\n",
    "#regra\n",
    "#se CS_RACA = 1 entao RACA = branca\n",
    "#se CS_RACA = 2 entao RACA = preta\n",
    "#se CS_RACA = 3 entao RACA = amarela\n",
    "#se CS_RACA = 4 entao RACA = parda\n",
    "#se CS_RACA = 5 entao RACA = indigena\n",
    "#se CS_RACA = 9 entao RACA = ignorado\n",
    "\n",
    "#Contagem por raca e sexo apos criacao do campo\n",
    "# +--------+----+------+\n",
    "# |    RACA|SEXO| count|\n",
    "# +--------+----+------+\n",
    "# |indigena|   M|   161|\n",
    "# |   preta|   M| 18294|\n",
    "# |ignorado|   F|179121|\n",
    "# | amarela|   F| 14055|\n",
    "# |  branca|   M|117948|\n",
    "# |indigena|   F|   216|\n",
    "# |ignorado|   M|111490|\n",
    "# |   preta|   F| 28095|\n",
    "# | amarela|   M|  8799|\n",
    "# |  branca|   F|202608|\n",
    "# |   parda|   M|122777|\n",
    "# |   parda|   F|195482|\n",
    "# +--------+----+------+\n",
    "\n",
    "\n",
    "\n"
   ]
  },
  {
   "cell_type": "code",
   "execution_count": 0,
   "metadata": {
    "application/vnd.databricks.v1+cell": {
     "cellMetadata": {},
     "inputWidgets": {},
     "nuid": "f9467128-5209-4939-a503-89c62eb501b8",
     "showTitle": false,
     "tableResultSettingsMap": {},
     "title": ""
    }
   },
   "outputs": [],
   "source": [
    "#Realizar contagem por RACA\n",
    "\n",
    "# +--------+------+\n",
    "# |    RACA| count|\n",
    "# +--------+------+\n",
    "# |   parda|318259|\n",
    "# |ignorado|290611|\n",
    "# | amarela| 22854|\n",
    "# |  branca|320556|\n",
    "# |indigena|   377|\n",
    "# |   preta| 46389|\n",
    "# +--------+------+"
   ]
  },
  {
   "cell_type": "code",
   "execution_count": 0,
   "metadata": {
    "application/vnd.databricks.v1+cell": {
     "cellMetadata": {},
     "inputWidgets": {},
     "nuid": "f7ea4f1b-d77d-4ad9-bf85-043fa14b8631",
     "showTitle": false,
     "tableResultSettingsMap": {},
     "title": ""
    }
   },
   "outputs": [],
   "source": [
    "#Após realizado o teste você devera subir o notebook e o arquivo csv no repositorio pessoal do gitHub \n"
   ]
  }
 ],
 "metadata": {
  "application/vnd.databricks.v1+notebook": {
   "computePreferences": null,
   "dashboards": [],
   "environmentMetadata": {
    "base_environment": "",
    "client": "1"
   },
   "language": "python",
   "notebookMetadata": {
    "pythonIndentUnit": 4
   },
   "notebookName": "script_desafio_squad",
   "widgets": {}
  }
 },
 "nbformat": 4,
 "nbformat_minor": 0
}
